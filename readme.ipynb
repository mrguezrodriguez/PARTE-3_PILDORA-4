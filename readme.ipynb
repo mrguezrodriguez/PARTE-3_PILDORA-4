esto es un texto de prueba para que podáis practicar con vuestro repositorio
