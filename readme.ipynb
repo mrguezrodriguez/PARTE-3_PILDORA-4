{
 "cells": [
  {
   "cell_type": "code",
   "execution_count": null,
   "id": "86db5f1c",
   "metadata": {},
   "outputs": [],
   "source": [
    "print \"esto es un texto de prueba para rellenar el repositorio\""
   ]
  },
  {
   "cell_type": "code",
   "execution_count": null,
   "id": "07490556",
   "metadata": {},
   "outputs": [],
   "source": []
  }
 ],
 "metadata": {
  "language_info": {
   "name": "python"
  }
 },
 "nbformat": 4,
 "nbformat_minor": 5
}
