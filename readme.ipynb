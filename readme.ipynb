{
 "cells": [
  {
   "cell_type": "code",
   "execution_count": 1,
   "id": "245adc8d-eb56-4d46-af0c-4bbb23728fc8",
   "metadata": {},
   "outputs": [
    {
     "name": "stdout",
     "output_type": "stream",
     "text": [
      "esto es simplemente un texto de prueba para que podáis practicar con vuestro repositorio\n"
     ]
    }
   ],
   "source": [
    "print(\"esto es simplemente un texto de prueba para que podáis practicar con vuestro repositorio\")"
   ]
  },
  {
   "cell_type": "code",
   "execution_count": null,
   "id": "c96aa3db-31ec-40ea-b3d7-616946b393a7",
   "metadata": {},
   "outputs": [],
   "source": []
  }
 ],
 "metadata": {
  "kernelspec": {
   "display_name": "Python 3 (ipykernel)",
   "language": "python",
   "name": "python3"
  },
  "language_info": {
   "codemirror_mode": {
    "name": "ipython",
    "version": 3
   },
   "file_extension": ".py",
   "mimetype": "text/x-python",
   "name": "python",
   "nbconvert_exporter": "python",
   "pygments_lexer": "ipython3",
   "version": "3.10.11"
  }
 },
 "nbformat": 4,
 "nbformat_minor": 5
}
